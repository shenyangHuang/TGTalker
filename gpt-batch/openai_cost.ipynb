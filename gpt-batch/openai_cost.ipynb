{
 "cells": [
  {
   "cell_type": "code",
   "execution_count": 1,
   "id": "9c1cd427",
   "metadata": {},
   "outputs": [],
   "source": [
    "from dotenv import load_dotenv\n",
    "from glob import glob\n",
    "import numpy as np\n",
    "import json\n"
   ]
  },
  {
   "cell_type": "markdown",
   "id": "1e6b412e",
   "metadata": {},
   "source": [
    "## Parameters"
   ]
  },
  {
   "cell_type": "code",
   "execution_count": 2,
   "id": "e418adaf",
   "metadata": {},
   "outputs": [],
   "source": [
    "# dataset = \"explanations\"\n",
    "# model = \"gpt-4o-mini-2024-07-18\"\n",
    "# prompt_version = \"uci\"\n",
    "\n",
    "dataset = \"tgbl-enron\"\n",
    "model = \"gpt-4o-mini-2024-07-18\"\n",
    "prompt_version = \"base_v1_cot\"\n",
    "\n",
    "result_folder = f\"./result/{dataset}/{model}/{prompt_version}/output\""
   ]
  },
  {
   "cell_type": "code",
   "execution_count": 3,
   "id": "9e1e5069",
   "metadata": {},
   "outputs": [],
   "source": [
    "total_completion_tokens = []\n",
    "for file in glob(f\"{result_folder}/*.jsonl\"):\n",
    "    with open(file, \"r\") as f:\n",
    "        for line in f:\n",
    "            data = json.loads(line)\n",
    "            total_completion_tokens.append(data['response'][\"body\"][\"usage\"][\"completion_tokens\"])"
   ]
  },
  {
   "cell_type": "code",
   "execution_count": 4,
   "id": "e0fd76bb",
   "metadata": {},
   "outputs": [],
   "source": [
    "avg_tokens = np.mean(total_completion_tokens)\n",
    "theta = np.std(total_completion_tokens)"
   ]
  },
  {
   "cell_type": "code",
   "execution_count": 5,
   "id": "b0747556",
   "metadata": {},
   "outputs": [
    {
     "data": {
      "text/plain": [
       "208"
      ]
     },
     "execution_count": 5,
     "metadata": {},
     "output_type": "execute_result"
    }
   ],
   "source": [
    "int(np.ceil(avg_tokens))"
   ]
  },
  {
   "cell_type": "code",
   "execution_count": 6,
   "id": "ff95cd52",
   "metadata": {},
   "outputs": [
    {
     "data": {
      "text/plain": [
       "658"
      ]
     },
     "execution_count": 6,
     "metadata": {},
     "output_type": "execute_result"
    }
   ],
   "source": [
    "int(np.ceil(avg_tokens + 2 * theta))"
   ]
  }
 ],
 "metadata": {
  "kernelspec": {
   "display_name": "base",
   "language": "python",
   "name": "python3"
  },
  "language_info": {
   "codemirror_mode": {
    "name": "ipython",
    "version": 3
   },
   "file_extension": ".py",
   "mimetype": "text/x-python",
   "name": "python",
   "nbconvert_exporter": "python",
   "pygments_lexer": "ipython3",
   "version": "3.10.9"
  }
 },
 "nbformat": 4,
 "nbformat_minor": 5
}
