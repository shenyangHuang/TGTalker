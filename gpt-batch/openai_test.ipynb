{
 "cells": [
  {
   "cell_type": "code",
   "execution_count": 1,
   "id": "0e6f6a59",
   "metadata": {},
   "outputs": [],
   "source": [
    "import pandas as pd\n",
    "from dotenv import load_dotenv"
   ]
  },
  {
   "cell_type": "code",
   "execution_count": 2,
   "id": "cdc471bb",
   "metadata": {},
   "outputs": [],
   "source": [
    "import os\n",
    "import json\n",
    "from openai import OpenAI\n",
    "from pathlib import Path\n",
    "from openai import OpenAI\n",
    "from pydantic import BaseModel\n"
   ]
  },
  {
   "cell_type": "code",
   "execution_count": 3,
   "id": "cf8814dc",
   "metadata": {},
   "outputs": [
    {
     "data": {
      "text/plain": [
       "True"
      ]
     },
     "execution_count": 3,
     "metadata": {},
     "output_type": "execute_result"
    }
   ],
   "source": [
    "load_dotenv()"
   ]
  },
  {
   "cell_type": "code",
   "execution_count": 4,
   "id": "479b6796",
   "metadata": {},
   "outputs": [],
   "source": [
    "client = OpenAI(\n",
    "    api_key=os.getenv(\"OPENAI_API_KEY\")\n",
    "    )"
   ]
  },
  {
   "cell_type": "code",
   "execution_count": 5,
   "id": "fedad2bc",
   "metadata": {},
   "outputs": [],
   "source": [
    "class Step(BaseModel):\n",
    "    explanation: str\n",
    "    output: str\n",
    "\n",
    "class TGBReasoning(BaseModel):\n",
    "    steps: list[Step]\n",
    "    destination_node: int\n",
    "\n",
    "class TGBAnswer(BaseModel):\n",
    "    destination_node: int"
   ]
  },
  {
   "cell_type": "code",
   "execution_count": 6,
   "id": "63fff993",
   "metadata": {},
   "outputs": [],
   "source": [
    "with open(\"./prompts/v1/TGBAnswer_schema.json\", 'w') as f:\n",
    "    json.dump(TGBAnswer.model_json_schema(), f, indent=2)\n",
    "\n",
    "with open(\"./prompts/v1/TGBReasoning_schema.json\", 'w') as f:\n",
    "    json.dump(TGBReasoning.model_json_schema(), f, indent=2)"
   ]
  },
  {
   "cell_type": "code",
   "execution_count": 7,
   "id": "043e04eb",
   "metadata": {},
   "outputs": [],
   "source": [
    "system_prompt = \"You are an expert temporal graph learning agent. Your task is to predict the next interaction (i.e. Destination Node) given the `Source Node` and `Timestamp`.\\n\\nDescription of the temporal graph is provided below, where each line is a tuple of (`Source Node`, `Destination Node`, `Timestamp`).\\n\\nTEMPORAL GRAPH:\\n(1042, 9074, 1855960)\\n(1862, 8411, 1855970)\\n(3612, 9103, 1856023)\\n(184, 8645, 1856026)\\n(2668, 8389, 1856038)\\n(4844, 9159, 1856114)\\n(5294, 9108, 1856118)\\n(3612, 9103, 1856136)\\n(6503, 8349, 1856147)\\n(601, 8995, 1856187)\\n(3349, 9100, 1856227)\\n(3302, 8682, 1856239)\\n(3262, 9177, 1856357)\\n(3302, 8682, 1856447)\\n(884, 8656, 1856462)\\n(1810, 8332, 1856463)\\n(1206, 8734, 1856493)\\n(3262, 9177, 1856522)\\n(3302, 8639, 1856530)\\n(3302, 8639, 1856549)\\n(1206, 8734, 1856560)\\n(3302, 8639, 1856564)\\n(164, 8783, 1856573)\\n(39, 8486, 1856625)\\n(1206, 8734, 1856644)\\n(1629, 9051, 1856646)\\n(924, 8945, 1856675)\\n(924, 8945, 1856714)\\n(907, 8662, 1856796)\\n(924, 8938, 1856963)\\n(4240, 8734, 1856978)\\n(3262, 9177, 1856983)\\n(184, 8645, 1857001)\\n(379, 8799, 1857006)\\n(4240, 8734, 1857010)\\n(184, 8645, 1857017)\\n(220, 8508, 1857055)\\n(3612, 9103, 1857070)\\n(379, 8799, 1857134)\\n(4446, 9091, 1857140)\\n(1327, 8323, 1857164)\\n(2668, 8389, 1857187)\\n(220, 8704, 1857222)\\n(220, 8704, 1857261)\\n(1778, 8784, 1857264)\\n(6515, 8347, 1857267)\\n(184, 8645, 1857296)\\n(4446, 9091, 1857328)\\n(823, 8508, 1857376)\\n(6491, 8538, 1857381)\\n(1889, 8526, 1857424)\\n(6491, 8538, 1857439)\\n(239, 8508, 1857482)\\n(6516, 8285, 1857502)\\n(1031, 9098, 1857567)\\n(4240, 8734, 1857578)\\n(1031, 9098, 1857661)\\n(3060, 9008, 1857678)\\n(6491, 8538, 1857679)\\n(6165, 9166, 1857681)\\n(379, 8478, 1857691)\\n(1031, 9098, 1857727)\\n(2648, 8927, 1857812)\\n(39, 8338, 1857900)\\n(5248, 9105, 1857911)\\n(6517, 8774, 1857917)\\n(6491, 8538, 1857918)\\n(39, 8338, 1857941)\\n(6326, 9171, 1857993)\\n(6517, 8774, 1858005)\\n(5552, 9166, 1858008)\\n(870, 9177, 1858028)\\n(6491, 8538, 1858033)\\n(184, 8645, 1858034)\\n(6517, 8774, 1858042)\\n(2525, 8674, 1858050)\\n(5552, 9166, 1858068)\\n(6518, 9166, 1858090)\\n(6518, 9166, 1858111)\\n(6165, 9166, 1858171)\\n(4800, 8807, 1858206)\\n(4800, 8807, 1858226)\\n(6165, 9166, 1858254)\\n(4800, 8807, 1858267)\\n(1296, 8268, 1858274)\\n(6165, 9166, 1858313)\\n(1296, 8268, 1858318)\\n(39, 8425, 1858323)\\n(3262, 9177, 1858361)\\n(5846, 8586, 1858366)\\n(1236, 8388, 1858381)\\n(6165, 9166, 1858422)\\n(5846, 8586, 1858430)\\n(1236, 8388, 1858435)\\n(4446, 9091, 1858439)\\n(2304, 8508, 1858451)\\n(3262, 9177, 1858454)\\n(6503, 8349, 1858458)\\n(1611, 8349, 1858462)\\n(4800, 8807, 1858484)\\n(4240, 8734, 1858495)\\n(2304, 8508, 1858534)\\n(2525, 8674, 1858539)\\n(4800, 8807, 1858540)\\n(5846, 8586, 1858549)\\n(6165, 9166, 1858574)\\n(2525, 8674, 1858602)\\n(46, 8270, 1858658)\\n(184, 8645, 1858673)\\n(509, 8672, 1858679)\\n(46, 8270, 1858699)\\n(1042, 9170, 1858711)\\n(2525, 8674, 1858743)\\n(1236, 8388, 1858788)\\n(379, 8954, 1858810)\\n(1042, 9170, 1858813)\\n(2525, 8674, 1858813)\\n(1236, 8388, 1858821)\\n(6326, 9171, 1858839)\\n(2525, 8674, 1858848)\\n(2846, 8988, 1858892)\\n(6165, 9166, 1858900)\\n(6326, 9171, 1858954)\\n(2525, 8674, 1859072)\\n(2525, 8674, 1859102)\\n(3262, 9177, 1859109)\\n(6326, 9171, 1859110)\\n(1031, 9098, 1859121)\\n(6326, 9171, 1859207)\\n(6326, 9171, 1859260)\\n(2525, 8674, 1859274)\\n(6294, 8990, 1859294)\\n(285, 8436, 1859300)\\n(2261, 8401, 1859312)\\n(285, 8436, 1859323)\\n(285, 8865, 1859374)\\n(2525, 8674, 1859387)\\n(2525, 8674, 1859407)\\n(485, 8244, 1859431)\\n(285, 8865, 1859432)\\n(285, 8865, 1859451)\\n(285, 8865, 1859466)\\n(2525, 8674, 1859468)\\n(285, 8865, 1859479)\\n(5447, 9077, 1859500)\\n(2846, 8988, 1859500)\\n(4251, 9166, 1859501)\\n(285, 8865, 1859529)\\n(285, 8865, 1859567)\\n(2846, 8988, 1859571)\\n(2846, 8988, 1859591)\\n(4251, 9166, 1859627)\\n(2525, 8674, 1859634)\\n(3426, 8999, 1859644)\\n(2846, 8988, 1859646)\\n(2321, 9178, 1859659)\\n(285, 8865, 1859661)\\n(2697, 8853, 1859662)\\n(285, 8865, 1859668)\\n(2797, 9096, 1859722)\\n(1258, 8508, 1859737)\\n(2697, 8853, 1859775)\\n(46, 8270, 1859909)\\n(2697, 8853, 1859929)\\n(178, 8362, 1859930)\\n(2841, 8823, 1859951)\\n(919, 8540, 1859972)\\n(3262, 9177, 1859990)\\n(2697, 8853, 1860008)\\n(2841, 8823, 1860012)\\n(3262, 9177, 1860030)\\n(2841, 8823, 1860041)\\n(6152, 9165, 1860059)\\n(5092, 8492, 1860065)\\n(2960, 8680, 1860065)\\n(2846, 8988, 1860075)\\n(1296, 8268, 1860083)\\n(3148, 9166, 1860094)\\n(1624, 8802, 1860127)\\n(1031, 9098, 1860128)\\n(919, 8540, 1860129)\\n(2697, 8853, 1860200)\\n(6152, 9165, 1860259)\\n(306, 8428, 1860286)\\n(4666, 8347, 1860297)\\n(3262, 9177, 1860319)\\n(2697, 8853, 1860341)\\n(3426, 8999, 1860345)\\n(919, 8540, 1860359)\\n(6519, 9166, 1860373)\\n(3442, 8695, 1860444)\\n(2697, 8853, 1860461)\\n(2846, 8988, 1860461)\\n(5092, 8492, 1860483)\\n(6520, 9133, 1860505)\\n(5876, 8672, 1860526)\\n(2846, 8988, 1860575)\\n(6515, 8347, 1860579)\\n(1236, 8388, 1860584)\\n(3404, 8962, 1860610)\\n(5092, 8492, 1860619)\\n(3262, 9177, 1860623)\\n(2846, 8988, 1860633)\\n(1031, 9098, 1860695)\\n(2846, 8988, 1860701)\\n(2697, 8853, 1860717)\\n(2930, 9168, 1860778)\\n(6299, 8411, 1860827)\\n(1662, 8812, 1860930)\\n(4800, 8807, 1860951)\\n(114, 8324, 1860953)\\n(3404, 8962, 1860965)\\n(114, 8324, 1860988)\\n(5248, 9105, 1860991)\\n(2525, 8674, 1860992)\\n(306, 8428, 1861032)\\n(4800, 8807, 1861034)\\n(3262, 9177, 1861077)\\n(2294, 8691, 1861092)\\n(2525, 8674, 1861101)\\n(1031, 9098, 1861133)\\n(2294, 8691, 1861136)\\n(4800, 8807, 1861148)\\n(2525, 8674, 1861154)\\n(3404, 8962, 1861184)\\n(1031, 9098, 1861210)\\n(2525, 8674, 1861223)\\n(3262, 9177, 1861224)\\n(2321, 9178, 1861237)\\n(6171, 8764, 1861245)\\n(6491, 8538, 1861256)\\n(919, 8376, 1861324)\\n(2525, 8674, 1861342)\\n(4067, 8672, 1861366)\\n(6491, 8538, 1861393)\\n(6521, 9045, 1861478)\\n(6191, 8235, 1861479)\\n(485, 8244, 1861487)\\n(6491, 8538, 1861503)\\n(1296, 8268, 1861510)\\n(2134, 9163, 1861552)\\n(4240, 8734, 1861558)\\n(1031, 9098, 1861569)\\n(1296, 8268, 1861595)\\n(359, 8474, 1861608)\\n(485, 8244, 1861634)\\n(4194, 8736, 1861648)\\n(1197, 9166, 1861652)\\n(3404, 8962, 1861665)\\n(359, 8474, 1861692)\\n(1296, 8268, 1861696)\\n(3262, 9177, 1861698)\\n(285, 8853, 1861704)\\n(5248, 9105, 1861706)\\n(285, 8853, 1861731)\\n(4446, 9091, 1861751)\\n(6491, 8538, 1861753)\\n(2321, 9178, 1861763)\\n(1802, 8250, 1861764)\\n(1031, 9098, 1861768)\\n(3262, 9177, 1861776)\\n(1296, 8268, 1861778)\\n(359, 8474, 1861788)\\n(359, 8474, 1861802)\\n(285, 8853, 1861834)\\n(1296, 8268, 1861838)\\n(220, 8508, 1861847)\\n(220, 8508, 1861887)\\n(2231, 8887, 1861948)\\n(220, 8508, 1861984)\\n(220, 8508, 1862040)\\n(894, 8661, 1862047)\\n(1785, 8771, 1862063)\\n(5092, 8258, 1862072)\\n(1031, 9098, 1862087)\\n(5320, 9137, 1862099)\\n(3404, 8962, 1862102)\\n(894, 8661, 1862137)\\n(3407, 8260, 1862250)\\n(285, 8621, 1862252)\\n(285, 8796, 1862333)\\n(2525, 8674, 1862357)\\n(3200, 8506, 1862362)\\n(2697, 8650, 1862374)\\n(498, 9138, 1862378)\\n(3200, 8506, 1862394)\\n(2525, 8674, 1862411)\\n(199, 8389, 1862434)\\n(2697, 8650, 1862459)\\n(1979, 8686, 1862489)\\n(344, 8460, 1862523)\\n(1979, 8686, 1862528)\\n(1031, 9098, 1862538)\\n(476, 8964, 1862540)\\n(344, 8460, 1862550)\\n(476, 8841, 1862559)\\n(476, 8841, 1862570)\\n(716, 8865, 1862577)\\n(1629, 9051, 1862591)\\n(3404, 8962, 1862617)\\n\""
   ]
  },
  {
   "cell_type": "code",
   "execution_count": 8,
   "id": "b668a250",
   "metadata": {},
   "outputs": [],
   "source": [
    "user_prompt = \"`Source Node` 346 has the following past interactions:\\n(346, 8361, 1831818)\\n(346, 8893, 1832412)\\nPlease predict the most likely `Destination Node` for `Source Node` 346 at `Timestamp` 1862704.\""
   ]
  },
  {
   "cell_type": "code",
   "execution_count": 9,
   "id": "070984a6",
   "metadata": {},
   "outputs": [],
   "source": [
    "response = client.responses.parse(\n",
    "    model=\"gpt-4o-2024-11-20\",\n",
    "    input=[\n",
    "        {\n",
    "            \"role\": \"system\",\n",
    "            \"content\": system_prompt,\n",
    "        },\n",
    "        {\n",
    "            \"role\": \"user\", \n",
    "            \"content\": user_prompt\n",
    "        },\n",
    "    ],\n",
    "    text_format=TGBAnswer,\n",
    ")"
   ]
  },
  {
   "cell_type": "code",
   "execution_count": 10,
   "id": "35938ea9",
   "metadata": {},
   "outputs": [
    {
     "data": {
      "text/plain": [
       "TGBAnswer(destination_node=8361)"
      ]
     },
     "execution_count": 10,
     "metadata": {},
     "output_type": "execute_result"
    }
   ],
   "source": [
    "response.output_parsed"
   ]
  },
  {
   "cell_type": "code",
   "execution_count": 12,
   "id": "46107bb2",
   "metadata": {},
   "outputs": [],
   "source": [
    "response = client.responses.parse(\n",
    "    model=\"gpt-4o-2024-11-20\",\n",
    "    input=[\n",
    "        {\n",
    "            \"role\": \"system\",\n",
    "            \"content\": system_prompt,\n",
    "        },\n",
    "        {\n",
    "            \"role\": \"user\", \n",
    "            \"content\": user_prompt\n",
    "        },\n",
    "        {\n",
    "            \"role\": \"assistant\",\n",
    "            \"content\": \"{\\\"destination node\\\": 8361}\",\n",
    "        },\n",
    "        {\n",
    "            \"role\": \"user\", \n",
    "            \"content\": \"Please provide a reasoning for your prediction.\"\n",
    "        },\n",
    "    ],\n",
    ")"
   ]
  },
  {
   "cell_type": "code",
   "execution_count": 16,
   "id": "6722e848",
   "metadata": {},
   "outputs": [
    {
     "data": {
      "text/plain": [
       "'To provide a prediction for the most likely destination node for source node `346` at timestamp `1862704`, let us analyze the provided information step by step:\\n\\n### 1. **Review of Previous Interactions**\\n   Source node `346` has the following past interactions:\\n   - `(346, 8361, 1831818)`: Interaction with destination node `8361` at timestamp `1831818`.\\n   - `(346, 8893, 1832412)`: Interaction with destination node `8893` at timestamp `1832412`.\\n\\n   In the limited historical data available, source node `346` has interacted with two different destination nodes.\\n\\n### 2. **Temporal Dynamics and Recency**\\n   The timestamps of the interactions are not continuous or frequent compared to the target timestamp `1862704`. However, two observations can be made:\\n   - The earlier interaction (with `8361`) occurred prior to the second interaction (with `8893`).\\n   - Across the temporal graph, a common tendency is for nodes to repeat their connections to specific destination nodes over time, particularly if the interaction history is limited.\\n\\n### 3. **Graph Dynamics and Trends**\\n   - Across temporal graphs, there is often a tendency for source nodes to exhibit repetitive behavior, especially when the number of unique interactions is small. Here, `346` interacted with two destination nodes but had no recurring interaction with `8893`.\\n   - Interaction with destination node `8361` might therefore be more likely to recur, as it might represent a stronger or more frequently repeating connection that could not be observed further due to missing data.\\n\\n### 4. **Prediction**\\n   Given:\\n   - (a) The temporal graph structure generally demonstrates some level of repeated interactions.\\n   - (b) Destination node `8361` was the first recorded interaction for source node `346`.\\n   - (c) No strong evidence suggests a bias toward `8893` over `8361`.\\n\\nI therefore predict the most likely destination node for source node `346` at timestamp `1862704` is **`8361`**.'"
      ]
     },
     "execution_count": 16,
     "metadata": {},
     "output_type": "execute_result"
    }
   ],
   "source": [
    "response.output_text"
   ]
  },
  {
   "cell_type": "code",
   "execution_count": null,
   "id": "d4c0c85b",
   "metadata": {},
   "outputs": [],
   "source": [
    "system_prompt = \"You are an expert temporal graph learning agent. Your task is to predict the next interaction (i.e. Destination Node) given the `Source Node` and `Timestamp`.\\n\""
   ]
  },
  {
   "cell_type": "code",
   "execution_count": 34,
   "id": "05f657a9",
   "metadata": {},
   "outputs": [],
   "source": [
    "user_prompt = \" Description of the 2-hop temporal graph is provided below, where each line is a tuple of (`Source Node`, `Destination Node`, `Timestamp`).\\n\\nTEMPORAL GRAPH:\\n(1042, 9074, 1855960)\\n(1862, 8411, 1855970)\\n(3612, 9103, 1856023)\\n(184, 8645, 1856026)\\n(2668, 8389, 1856038)\\n(4844, 9159, 1856114)\\n(5294, 9108, 1856118)\\n(3612, 9103, 1856136)\\n(6503, 8349, 1856147)\\n(601, 8995, 1856187)\\n(3349, 9100, 1856227)\\n(3302, 8682, 1856239)\\n(3262, 9177, 1856357)\\n(3302, 8682, 1856447)\\n(884, 8656, 1856462)\\n(1810, 8332, 1856463)\\n(1206, 8734, 1856493)\\n(3262, 9177, 1856522)\\n(3302, 8639, 1856530)\\n(3302, 8639, 1856549)\\n(1206, 8734, 1856560)\\n(3302, 8639, 1856564)\\n(164, 8783, 1856573)\\n(39, 8486, 1856625)\\n(1206, 8734, 1856644)\\n(1629, 9051, 1856646)\\n(924, 8945, 1856675)\\n(924, 8945, 1856714)\\n(907, 8662, 1856796)\\n(924, 8938, 1856963)\\n(4240, 8734, 1856978)\\n(3262, 9177, 1856983)\\n(184, 8645, 1857001)\\n(379, 8799, 1857006)\\n(4240, 8734, 1857010)\\n(184, 8645, 1857017)\\n(220, 8508, 1857055)\\n(3612, 9103, 1857070)\\n(379, 8799, 1857134)\\n(4446, 9091, 1857140)\\n(1327, 8323, 1857164)\\n(2668, 8389, 1857187)\\n(220, 8704, 1857222)\\n(220, 8704, 1857261)\\n(1778, 8784, 1857264)\\n(6515, 8347, 1857267)\\n(184, 8645, 1857296)\\n(4446, 9091, 1857328)\\n(823, 8508, 1857376)\\n(6491, 8538, 1857381)\\n(1889, 8526, 1857424)\\n(6491, 8538, 1857439)\\n(239, 8508, 1857482)\\n(6516, 8285, 1857502)\\n(1031, 9098, 1857567)\\n(4240, 8734, 1857578)\\n(1031, 9098, 1857661)\\n(3060, 9008, 1857678)\\n(6491, 8538, 1857679)\\n(6165, 9166, 1857681)\\n(379, 8478, 1857691)\\n(1031, 9098, 1857727)\\n(2648, 8927, 1857812)\\n(39, 8338, 1857900)\\n(5248, 9105, 1857911)\\n(6517, 8774, 1857917)\\n(6491, 8538, 1857918)\\n(39, 8338, 1857941)\\n(6326, 9171, 1857993)\\n(6517, 8774, 1858005)\\n(5552, 9166, 1858008)\\n(870, 9177, 1858028)\\n(6491, 8538, 1858033)\\n(184, 8645, 1858034)\\n(6517, 8774, 1858042)\\n(2525, 8674, 1858050)\\n(5552, 9166, 1858068)\\n(6518, 9166, 1858090)\\n(6518, 9166, 1858111)\\n(6165, 9166, 1858171)\\n(4800, 8807, 1858206)\\n(4800, 8807, 1858226)\\n(6165, 9166, 1858254)\\n(4800, 8807, 1858267)\\n(1296, 8268, 1858274)\\n(6165, 9166, 1858313)\\n(1296, 8268, 1858318)\\n(39, 8425, 1858323)\\n(3262, 9177, 1858361)\\n(5846, 8586, 1858366)\\n(1236, 8388, 1858381)\\n(6165, 9166, 1858422)\\n(5846, 8586, 1858430)\\n(1236, 8388, 1858435)\\n(4446, 9091, 1858439)\\n(2304, 8508, 1858451)\\n(3262, 9177, 1858454)\\n(6503, 8349, 1858458)\\n(1611, 8349, 1858462)\\n(4800, 8807, 1858484)\\n(4240, 8734, 1858495)\\n(2304, 8508, 1858534)\\n(2525, 8674, 1858539)\\n(4800, 8807, 1858540)\\n(5846, 8586, 1858549)\\n(6165, 9166, 1858574)\\n(2525, 8674, 1858602)\\n(46, 8270, 1858658)\\n(184, 8645, 1858673)\\n(509, 8672, 1858679)\\n(46, 8270, 1858699)\\n(1042, 9170, 1858711)\\n(2525, 8674, 1858743)\\n(1236, 8388, 1858788)\\n(379, 8954, 1858810)\\n(1042, 9170, 1858813)\\n(2525, 8674, 1858813)\\n(1236, 8388, 1858821)\\n(6326, 9171, 1858839)\\n(2525, 8674, 1858848)\\n(2846, 8988, 1858892)\\n(6165, 9166, 1858900)\\n(6326, 9171, 1858954)\\n(2525, 8674, 1859072)\\n(2525, 8674, 1859102)\\n(3262, 9177, 1859109)\\n(6326, 9171, 1859110)\\n(1031, 9098, 1859121)\\n(6326, 9171, 1859207)\\n(6326, 9171, 1859260)\\n(2525, 8674, 1859274)\\n(6294, 8990, 1859294)\\n(285, 8436, 1859300)\\n(2261, 8401, 1859312)\\n(285, 8436, 1859323)\\n(285, 8865, 1859374)\\n(2525, 8674, 1859387)\\n(2525, 8674, 1859407)\\n(485, 8244, 1859431)\\n(285, 8865, 1859432)\\n(285, 8865, 1859451)\\n(285, 8865, 1859466)\\n(2525, 8674, 1859468)\\n(285, 8865, 1859479)\\n(5447, 9077, 1859500)\\n(2846, 8988, 1859500)\\n(4251, 9166, 1859501)\\n(285, 8865, 1859529)\\n(285, 8865, 1859567)\\n(2846, 8988, 1859571)\\n(2846, 8988, 1859591)\\n(4251, 9166, 1859627)\\n(2525, 8674, 1859634)\\n(3426, 8999, 1859644)\\n(2846, 8988, 1859646)\\n(2321, 9178, 1859659)\\n(285, 8865, 1859661)\\n(2697, 8853, 1859662)\\n(285, 8865, 1859668)\\n(2797, 9096, 1859722)\\n(1258, 8508, 1859737)\\n(2697, 8853, 1859775)\\n(46, 8270, 1859909)\\n(2697, 8853, 1859929)\\n(178, 8362, 1859930)\\n(2841, 8823, 1859951)\\n(919, 8540, 1859972)\\n(3262, 9177, 1859990)\\n(2697, 8853, 1860008)\\n(2841, 8823, 1860012)\\n(3262, 9177, 1860030)\\n(2841, 8823, 1860041)\\n(6152, 9165, 1860059)\\n(5092, 8492, 1860065)\\n(2960, 8680, 1860065)\\n(2846, 8988, 1860075)\\n(1296, 8268, 1860083)\\n(3148, 9166, 1860094)\\n(1624, 8802, 1860127)\\n(1031, 9098, 1860128)\\n(919, 8540, 1860129)\\n(2697, 8853, 1860200)\\n(6152, 9165, 1860259)\\n(306, 8428, 1860286)\\n(4666, 8347, 1860297)\\n(3262, 9177, 1860319)\\n(2697, 8853, 1860341)\\n(3426, 8999, 1860345)\\n(919, 8540, 1860359)\\n(6519, 9166, 1860373)\\n(3442, 8695, 1860444)\\n(2697, 8853, 1860461)\\n(2846, 8988, 1860461)\\n(5092, 8492, 1860483)\\n(6520, 9133, 1860505)\\n(5876, 8672, 1860526)\\n(2846, 8988, 1860575)\\n(6515, 8347, 1860579)\\n(1236, 8388, 1860584)\\n(3404, 8962, 1860610)\\n(5092, 8492, 1860619)\\n(3262, 9177, 1860623)\\n(2846, 8988, 1860633)\\n(1031, 9098, 1860695)\\n(2846, 8988, 1860701)\\n(2697, 8853, 1860717)\\n(2930, 9168, 1860778)\\n(6299, 8411, 1860827)\\n(1662, 8812, 1860930)\\n(4800, 8807, 1860951)\\n(114, 8324, 1860953)\\n(3404, 8962, 1860965)\\n(114, 8324, 1860988)\\n(5248, 9105, 1860991)\\n(2525, 8674, 1860992)\\n(306, 8428, 1861032)\\n(4800, 8807, 1861034)\\n(3262, 9177, 1861077)\\n(2294, 8691, 1861092)\\n(2525, 8674, 1861101)\\n(1031, 9098, 1861133)\\n(2294, 8691, 1861136)\\n(4800, 8807, 1861148)\\n(2525, 8674, 1861154)\\n(3404, 8962, 1861184)\\n(1031, 9098, 1861210)\\n(2525, 8674, 1861223)\\n(3262, 9177, 1861224)\\n(2321, 9178, 1861237)\\n(6171, 8764, 1861245)\\n(6491, 8538, 1861256)\\n(919, 8376, 1861324)\\n(2525, 8674, 1861342)\\n(4067, 8672, 1861366)\\n(6491, 8538, 1861393)\\n(6521, 9045, 1861478)\\n(6191, 8235, 1861479)\\n(485, 8244, 1861487)\\n(6491, 8538, 1861503)\\n(1296, 8268, 1861510)\\n(2134, 9163, 1861552)\\n(4240, 8734, 1861558)\\n(1031, 9098, 1861569)\\n(1296, 8268, 1861595)\\n(359, 8474, 1861608)\\n(485, 8244, 1861634)\\n(4194, 8736, 1861648)\\n(1197, 9166, 1861652)\\n(3404, 8962, 1861665)\\n(359, 8474, 1861692)\\n(1296, 8268, 1861696)\\n(3262, 9177, 1861698)\\n(285, 8853, 1861704)\\n(5248, 9105, 1861706)\\n(285, 8853, 1861731)\\n(4446, 9091, 1861751)\\n(6491, 8538, 1861753)\\n(2321, 9178, 1861763)\\n(1802, 8250, 1861764)\\n(1031, 9098, 1861768)\\n(3262, 9177, 1861776)\\n(1296, 8268, 1861778)\\n(359, 8474, 1861788)\\n(359, 8474, 1861802)\\n(285, 8853, 1861834)\\n(1296, 8268, 1861838)\\n(220, 8508, 1861847)\\n(220, 8508, 1861887)\\n(2231, 8887, 1861948)\\n(220, 8508, 1861984)\\n(220, 8508, 1862040)\\n(894, 8661, 1862047)\\n(1785, 8771, 1862063)\\n(5092, 8258, 1862072)\\n(1031, 9098, 1862087)\\n(5320, 9137, 1862099)\\n(3404, 8962, 1862102)\\n(894, 8661, 1862137)\\n(3407, 8260, 1862250)\\n(285, 8621, 1862252)\\n(285, 8796, 1862333)\\n(2525, 8674, 1862357)\\n(3200, 8506, 1862362)\\n(2697, 8650, 1862374)\\n(498, 9138, 1862378)\\n(3200, 8506, 1862394)\\n(2525, 8674, 1862411)\\n(199, 8389, 1862434)\\n(2697, 8650, 1862459)\\n(1979, 8686, 1862489)\\n(344, 8460, 1862523)\\n(1979, 8686, 1862528)\\n(1031, 9098, 1862538)\\n(476, 8964, 1862540)\\n(344, 8460, 1862550)\\n(476, 8841, 1862559)\\n(476, 8841, 1862570)\\n(716, 8865, 1862577)\\n(1629, 9051, 1862591)\\n(3404, 8962, 1862617)\\n\\nLet's think step by step about the problem.\\n\"\n",
    "\n",
    "user_prompt += \"`Source Node` 346 has the following past interactions:\\n(346, 8361, 1831818)\\n(346, 8893, 1832412)\\nPlease predict the most likely `Destination Node` for `Source Node` 346 at `Timestamp` 1862704.\""
   ]
  },
  {
   "cell_type": "code",
   "execution_count": 35,
   "id": "239a2a8c",
   "metadata": {},
   "outputs": [],
   "source": [
    "response = client.responses.parse(\n",
    "    model=\"gpt-4o-2024-11-20\",\n",
    "    input=[\n",
    "        {\n",
    "            \"role\": \"system\",\n",
    "            \"content\": system_prompt,\n",
    "        },\n",
    "        {\n",
    "            \"role\": \"user\", \n",
    "            \"content\": user_prompt\n",
    "        },\n",
    "    ],\n",
    "    text_format=TGBReasoning,\n",
    ")"
   ]
  },
  {
   "cell_type": "code",
   "execution_count": 40,
   "id": "720b2299",
   "metadata": {},
   "outputs": [
    {
     "name": "stdout",
     "output_type": "stream",
     "text": [
      "Step 0: Analyzing the temporal graph data to identify patterns in the interactions of Source Node 346.\n",
      "    Output: The past interactions of Source Node 346 are with Destination Nodes 8361 and 8893.\n",
      "Step 1: Considering the temporal proximity and frequency of interactions to predict the next likely destination.\n",
      "    Output: Destination Node 8361 appears to be the most likely next interaction for Source Node 346.\n",
      "Destination Node: 8361\n"
     ]
    }
   ],
   "source": [
    "for i, step in enumerate(response.output_parsed.steps):\n",
    "    print(f\"Step {i}: {step.explanation}\")\n",
    "    print(f\"    Output: {step.output}\")\n",
    "print(f\"Destination Node: {response.output_parsed.destination_node}\")"
   ]
  },
  {
   "cell_type": "code",
   "execution_count": null,
   "id": "011410ae",
   "metadata": {},
   "outputs": [],
   "source": [
    "response = client.responses.parse(\n",
    "    model=\"gpt-4o-2024-11-20\",\n",
    "    input=[\n",
    "        {\n",
    "            \"role\": \"system\",\n",
    "            \"content\": system_prompt,\n",
    "        },\n",
    "        {\n",
    "            \"role\": \"user\", \n",
    "            \"content\": user_prompt\n",
    "        },\n",
    "    ],\n",
    "    text_format=TGBReasoning,\n",
    "    temperature=0.0,\n",
    ")"
   ]
  },
  {
   "cell_type": "code",
   "execution_count": 39,
   "id": "17b91d60",
   "metadata": {},
   "outputs": [
    {
     "name": "stdout",
     "output_type": "stream",
     "text": [
      "Step 0: Analyzing the temporal graph data to identify patterns in the interactions of Source Node 346.\n",
      "    Output: The past interactions of Source Node 346 are with Destination Nodes 8361 and 8893.\n",
      "Step 1: Considering the temporal proximity and frequency of interactions to predict the next likely destination.\n",
      "    Output: Destination Node 8361 appears to be the most likely next interaction for Source Node 346.\n",
      "Final Answer: 8361\n"
     ]
    }
   ],
   "source": [
    "for i, step in enumerate(response.output_parsed.steps):\n",
    "    print(f\"Step {i}: {step.explanation}\")\n",
    "    print(f\"    Output: {step.output}\")\n",
    "print(f\"Final Answer: {response.output_parsed.destination_node}\")"
   ]
  },
  {
   "cell_type": "code",
   "execution_count": 16,
   "id": "5980767a",
   "metadata": {},
   "outputs": [],
   "source": [
    "import pandas as pd"
   ]
  },
  {
   "cell_type": "code",
   "execution_count": 18,
   "id": "6fb3ffc2",
   "metadata": {},
   "outputs": [],
   "source": [
    "answer_key = pd.read_parquet(\"./output/tgbl-wiki/gpt-4o-mini-2024-07-18/base_v1/answer_key.parquet\")"
   ]
  },
  {
   "cell_type": "code",
   "execution_count": 23,
   "id": "7992e478",
   "metadata": {},
   "outputs": [
    {
     "data": {
      "text/plain": [
       "answer                                                    8355\n",
       "query_dst    [[8355, 8277, 8623, 8511, 8458, 8361, 8677, 82...\n",
       "task_id                                            tgbl-wiki-5\n",
       "Name: 5, dtype: object"
      ]
     },
     "execution_count": 23,
     "metadata": {},
     "output_type": "execute_result"
    }
   ],
   "source": [
    "answer_key.iloc[5]"
   ]
  },
  {
   "cell_type": "code",
   "execution_count": 7,
   "id": "9d0ab687",
   "metadata": {},
   "outputs": [],
   "source": [
    "with open(\"./prompts/explanation/system_prompt.txt\", \"r\") as f:\n",
    "    system_prompt = f.read()"
   ]
  },
  {
   "cell_type": "code",
   "execution_count": 5,
   "id": "c8ac394a",
   "metadata": {},
   "outputs": [],
   "source": [
    "with open(\"./prompts/explanation/explanation_schema.json\", \"r\") as f:\n",
    "    explanation_schema = json.load(f)"
   ]
  },
  {
   "cell_type": "code",
   "execution_count": 6,
   "id": "2609b705",
   "metadata": {},
   "outputs": [
    {
     "data": {
      "text/plain": [
       "{'title': 'ExplanationCategoryClassification',\n",
       " 'type': 'object',\n",
       " 'oneOf': [{'description': 'Standard category output',\n",
       "   'type': 'object',\n",
       "   'properties': {'category': {'type': 'string',\n",
       "     'enum': ['Most Recent Interaction Heuristic',\n",
       "      'Repeated / Consistent Interaction Pattern',\n",
       "      'Pattern Continuation or Extrapolation',\n",
       "      'Lack of Data or Default / Fallback Prediction',\n",
       "      'New Node or Unseen Interaction',\n",
       "      'Sequence or Alternation Logic',\n",
       "      'Most Frequent Past Destination',\n",
       "      'Ambiguous or Multiple Candidates',\n",
       "      'Default or Most Common Node']}},\n",
       "   'required': ['category'],\n",
       "   'additionalProperties': False},\n",
       "  {'description': 'Custom category fallback output (Others)',\n",
       "   'type': 'object',\n",
       "   'properties': {'category': {'const': 'Others'},\n",
       "    'proposed_category': {'type': 'string', 'minLength': 1},\n",
       "    'justification': {'type': 'string', 'minLength': 1}},\n",
       "   'required': ['category', 'proposed_category', 'justification'],\n",
       "   'additionalProperties': False}]}"
      ]
     },
     "execution_count": 6,
     "metadata": {},
     "output_type": "execute_result"
    }
   ],
   "source": [
    "explanation_schema"
   ]
  }
 ],
 "metadata": {
  "kernelspec": {
   "display_name": "base",
   "language": "python",
   "name": "python3"
  },
  "language_info": {
   "codemirror_mode": {
    "name": "ipython",
    "version": 3
   },
   "file_extension": ".py",
   "mimetype": "text/x-python",
   "name": "python",
   "nbconvert_exporter": "python",
   "pygments_lexer": "ipython3",
   "version": "3.10.9"
  }
 },
 "nbformat": 4,
 "nbformat_minor": 5
}
