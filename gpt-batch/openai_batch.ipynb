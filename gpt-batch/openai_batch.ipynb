{
 "cells": [
  {
   "cell_type": "code",
   "execution_count": 24,
   "id": "9c1cd427",
   "metadata": {},
   "outputs": [],
   "source": [
    "from dotenv import load_dotenv\n",
    "from glob import glob\n",
    "from openai import OpenAI\n",
    "\n",
    "import os\n",
    "import json"
   ]
  },
  {
   "cell_type": "markdown",
   "id": "257c5b0f",
   "metadata": {},
   "source": [
    "## Open-AI Setup"
   ]
  },
  {
   "cell_type": "code",
   "execution_count": 25,
   "id": "c650a3f3",
   "metadata": {},
   "outputs": [
    {
     "data": {
      "text/plain": [
       "True"
      ]
     },
     "execution_count": 25,
     "metadata": {},
     "output_type": "execute_result"
    }
   ],
   "source": [
    "load_dotenv()"
   ]
  },
  {
   "cell_type": "code",
   "execution_count": 26,
   "id": "a34268d6",
   "metadata": {},
   "outputs": [],
   "source": [
    "client = OpenAI(\n",
    "    api_key=os.getenv(\"OPENAI_API_KEY\")\n",
    "    )"
   ]
  },
  {
   "cell_type": "markdown",
   "id": "1e6b412e",
   "metadata": {},
   "source": [
    "## Parameters"
   ]
  },
  {
   "cell_type": "code",
   "execution_count": 27,
   "id": "e418adaf",
   "metadata": {},
   "outputs": [],
   "source": [
    "# dataset = \"explanations\"\n",
    "# model = \"gpt-4.1-mini-2025-04-14\"\n",
    "# prompt_version = \"wiki\"\n",
    "\n",
    "# dataset = \"tgbl-wiki\"\n",
    "# model = \"gpt-4o-mini-2024-07-18\"\n",
    "# prompt_version = \"base_v1_icl\"\n",
    "\n",
    "dataset = \"tgbl-lastfm\"\n",
    "model = \"gpt-4.1-mini-2025-04-14\"\n",
    "prompt_version = \"base_v1_icl\"\n",
    "\n",
    "folder = f\"./output/{dataset}/{model}/{prompt_version}\""
   ]
  },
  {
   "cell_type": "code",
   "execution_count": 28,
   "id": "00b33a81",
   "metadata": {},
   "outputs": [],
   "source": [
    "result_folder = f\"./result/{dataset}/{model}/{prompt_version}\"\n",
    "os.makedirs(result_folder, exist_ok=True)\n",
    "\n",
    "batch_input_files_folder = f\"{result_folder}/batch_input_files\"\n",
    "os.makedirs(batch_input_files_folder, exist_ok=True)\n",
    "\n",
    "os.makedirs(f\"{result_folder}/output\", exist_ok=True)\n",
    "os.makedirs(f\"{result_folder}/error\", exist_ok=True)\n",
    "\n",
    "batch_requests_folder = f\"{result_folder}/batch_requests\"\n",
    "os.makedirs(batch_requests_folder, exist_ok=True)\n"
   ]
  },
  {
   "cell_type": "markdown",
   "id": "74b09eb7",
   "metadata": {},
   "source": [
    "## Batch File Upload"
   ]
  },
  {
   "cell_type": "code",
   "execution_count": null,
   "id": "c0f1ccc6",
   "metadata": {},
   "outputs": [],
   "source": [
    "batch_files = glob(f\"{folder}/*.jsonl\")"
   ]
  },
  {
   "cell_type": "code",
   "execution_count": null,
   "id": "91ab0441",
   "metadata": {},
   "outputs": [],
   "source": [
    "batch_files"
   ]
  },
  {
   "cell_type": "code",
   "execution_count": null,
   "id": "f542c9e6",
   "metadata": {},
   "outputs": [],
   "source": [
    "batch_input_files = []\n",
    "batch_requests = []\n",
    "\n",
    "for batch in batch_files:\n",
    "    batch_input_file = client.files.create(\n",
    "        file=open(batch, \"rb\"),\n",
    "        purpose=\"batch\",\n",
    "    )\n",
    "\n",
    "    batch_input_files.append(batch_input_file)\n",
    "\n",
    "    batch_request = client.batches.create(\n",
    "        input_file_id=batch_input_file.id,\n",
    "        endpoint=\"/v1/chat/completions\",\n",
    "        completion_window=\"24h\",\n",
    "        metadata={\n",
    "            \"description\": f\"{dataset} {model} {prompt_version}\",\n",
    "        }\n",
    "    )\n",
    "    batch_requests.append(batch_request)\n",
    "\n",
    "    print(f\"Batch input file created: {batch_input_file.id}\")\n",
    "    print(f\"Batch request created: {batch_request.id}\")"
   ]
  },
  {
   "cell_type": "code",
   "execution_count": null,
   "id": "3533b701",
   "metadata": {},
   "outputs": [],
   "source": [
    "# Save batch_input_file ids\n",
    "for batch_input_file in batch_input_files:\n",
    "    with open(f\"{batch_input_files_folder}/{batch_input_file.id}\", \"w\") as f:\n",
    "        f.write(str(batch_input_file))\n",
    "\n",
    "# Save batch_requests ids\n",
    "for batch_request in batch_requests:\n",
    "    with open(f\"{batch_requests_folder}/{batch_request.id}\", \"w\") as f:\n",
    "        f.write(str(batch_request))"
   ]
  },
  {
   "cell_type": "markdown",
   "id": "4b60caac",
   "metadata": {},
   "source": [
    "## Batch File Progress Check"
   ]
  },
  {
   "cell_type": "code",
   "execution_count": 33,
   "id": "98b03fb0",
   "metadata": {},
   "outputs": [
    {
     "name": "stdout",
     "output_type": "stream",
     "text": [
      "Batch batch_681ae48f7f448190b0ab0e3529fc4b93 Status: expired\n",
      "Total in progress batches: 0\n",
      "Total completed batches: 19\n",
      "Total batches: 20\n"
     ]
    }
   ],
   "source": [
    "# For if you are running the script later.\n",
    "in_progress_count = 0\n",
    "completed_count = 0\n",
    "total = 0\n",
    "for file in glob(f\"{batch_requests_folder}/*\"):\n",
    "    total += 1\n",
    "    batch_id = os.path.basename(file)\n",
    "    try:\n",
    "        batch_output = client.batches.retrieve(batch_id)\n",
    "        if batch_output.status == \"failed\":\n",
    "            print(f\"Error: {batch_output.errors}\")\n",
    "        elif batch_output.status == \"in_progress\":\n",
    "            in_progress_count += 1\n",
    "        elif batch_output.status == \"completed\":\n",
    "            completed_count += 1\n",
    "        else:\n",
    "            print(f\"Batch {batch_id} Status: {batch_output.status}\")\n",
    "    except Exception as e:\n",
    "        print(f\"Error retrieving batch `{batch_id}`: {e}\")\n",
    "        continue\n",
    "\n",
    "print(f\"Total in progress batches: {in_progress_count}\")\n",
    "print(f\"Total completed batches: {completed_count}\")\n",
    "print(f\"Total batches: {total}\")"
   ]
  },
  {
   "cell_type": "markdown",
   "id": "09b30f05",
   "metadata": {},
   "source": [
    "## Batch Cancel (Do if you need to cancel the jobs)"
   ]
  },
  {
   "cell_type": "code",
   "execution_count": null,
   "id": "ce8b7c0c",
   "metadata": {},
   "outputs": [],
   "source": [
    "# Cancel any batch if needed\n",
    "for file in glob(f\"{batch_requests_folder}/*\"):\n",
    "    batch_id = os.path.basename(file)\n",
    "    try:\n",
    "        client.batches.cancel(batch_id)\n",
    "        print(f\"Batch `{batch_id}` cancelled\")\n",
    "    except Exception as e:\n",
    "        print(f\"Couldn't cancel batch `{batch_id}`: {e}\")\n",
    "        continue"
   ]
  },
  {
   "cell_type": "markdown",
   "id": "501267d0",
   "metadata": {},
   "source": [
    "## Batch File Download"
   ]
  },
  {
   "cell_type": "code",
   "execution_count": null,
   "id": "594a5d35",
   "metadata": {},
   "outputs": [
    {
     "name": "stdout",
     "output_type": "stream",
     "text": [
      "Batch `batch_681ae48f7f448190b0ab0e3529fc4b93` with status `expired` is not dealt with.\n"
     ]
    }
   ],
   "source": [
    "# For if you are running the script later.\n",
    "for file in glob(f\"{batch_requests_folder}/*\"):\n",
    "    batch_id = os.path.basename(file)\n",
    "    batch_output = client.batches.retrieve(batch_id)\n",
    "    if batch_output.status == \"completed\":\n",
    "        if batch_output.output_file_id:\n",
    "            output = client.files.content(batch_output.output_file_id)\n",
    "            output.write_to_file(f\"{result_folder}/output/{batch_output.output_file_id}.jsonl\")\n",
    "\n",
    "        if batch_output.error_file_id:\n",
    "            error_file = client.files.content(batch_output.error_file_id)\n",
    "            error_file.write_to_file(f\"{result_folder}/error/{batch_output.error_file_id}.jsonl\")\n",
    "    else:\n",
    "        print(f\"Batch `{batch_output.id}` with status `{batch_output.status}` is not dealt with.\")"
   ]
  }
 ],
 "metadata": {
  "kernelspec": {
   "display_name": "base",
   "language": "python",
   "name": "python3"
  },
  "language_info": {
   "codemirror_mode": {
    "name": "ipython",
    "version": 3
   },
   "file_extension": ".py",
   "mimetype": "text/x-python",
   "name": "python",
   "nbconvert_exporter": "python",
   "pygments_lexer": "ipython3",
   "version": "3.10.9"
  }
 },
 "nbformat": 4,
 "nbformat_minor": 5
}
