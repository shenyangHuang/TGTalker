{
 "cells": [
  {
   "cell_type": "code",
   "execution_count": 452,
   "id": "eeda395e",
   "metadata": {},
   "outputs": [],
   "source": [
    "import pandas as pd\n",
    "import json\n",
    "from glob import glob"
   ]
  },
  {
   "cell_type": "code",
   "execution_count": 453,
   "id": "1a425d2b",
   "metadata": {},
   "outputs": [],
   "source": [
    "dataset = \"explanations\"\n",
    "model = \"gpt-4.1-mini-2025-04-14\" #\"gpt-4o-mini-2024-07-18\" #   \n",
    "prompt_version = \"wiki\"\n",
    "\n",
    "folder = f\"./output/{dataset}/{model}/{prompt_version}\"\n",
    "result_folder = f\"./result/{dataset}/{model}/{prompt_version}/output\"\n",
    "\n",
    "prev_file = f\"./explanations/{model}/explanations_{prompt_version}.csv\""
   ]
  },
  {
   "cell_type": "code",
   "execution_count": 454,
   "id": "302aaea9",
   "metadata": {},
   "outputs": [
    {
     "name": "stdout",
     "output_type": "stream",
     "text": [
      "Error count: 0\n"
     ]
    }
   ],
   "source": [
    "result = []\n",
    "error_count = 0\n",
    "\n",
    "for file in glob(f\"{result_folder}/*.jsonl\"):\n",
    "    with open(file, \"r\") as f:\n",
    "        for line in f:\n",
    "            data = json.loads(line)\n",
    "            id = data.get(\"custom_id\")\n",
    "            try:\n",
    "                # Default value\n",
    "                category = \"Other\"\n",
    "                model_answer = data[\"response\"][\"body\"][\"choices\"][0][\"message\"][\"content\"]\n",
    "\n",
    "                # Load model answer\n",
    "                model_answer = json.loads(model_answer)\n",
    "\n",
    "                # Get answers\n",
    "                category = model_answer[\"category\"]\n",
    "                proposed_category = model_answer[\"proposed_category\"]\n",
    "                justification = model_answer[\"justification\"]\n",
    "\n",
    "                result.append(\n",
    "                {\n",
    "                    \"task_id\": id,\n",
    "                    \"category\": category,\n",
    "                    \"proposed_category\": proposed_category,\n",
    "                    \"justification\": justification,\n",
    "                }\n",
    "                )            \n",
    "            except Exception as e:\n",
    "                error_count +=1\n",
    "                print(f\"Error for {id}: {e}\")\n",
    "                    \n",
    "                    \n",
    "result = pd.DataFrame(result)\n",
    "print(f\"Error count: {error_count}\")\n",
    "\n"
   ]
  },
  {
   "cell_type": "code",
   "execution_count": 455,
   "id": "f1a6723c",
   "metadata": {},
   "outputs": [
    {
     "data": {
      "text/plain": [
       "5000"
      ]
     },
     "execution_count": 455,
     "metadata": {},
     "output_type": "execute_result"
    }
   ],
   "source": [
    "len(result)"
   ]
  },
  {
   "cell_type": "code",
   "execution_count": 456,
   "id": "83853246",
   "metadata": {},
   "outputs": [
    {
     "data": {
      "text/html": [
       "<div>\n",
       "<style scoped>\n",
       "    .dataframe tbody tr th:only-of-type {\n",
       "        vertical-align: middle;\n",
       "    }\n",
       "\n",
       "    .dataframe tbody tr th {\n",
       "        vertical-align: top;\n",
       "    }\n",
       "\n",
       "    .dataframe thead th {\n",
       "        text-align: right;\n",
       "    }\n",
       "</style>\n",
       "<table border=\"1\" class=\"dataframe\">\n",
       "  <thead>\n",
       "    <tr style=\"text-align: right;\">\n",
       "      <th></th>\n",
       "      <th>task_id</th>\n",
       "      <th>category</th>\n",
       "      <th>proposed_category</th>\n",
       "      <th>justification</th>\n",
       "      <th>id</th>\n",
       "    </tr>\n",
       "  </thead>\n",
       "  <tbody>\n",
       "    <tr>\n",
       "      <th>0</th>\n",
       "      <td>wiki-explanation-0</td>\n",
       "      <td>Repeated / Consistent Interaction Pattern</td>\n",
       "      <td></td>\n",
       "      <td>The explanation predicts the next destination ...</td>\n",
       "      <td>0</td>\n",
       "    </tr>\n",
       "    <tr>\n",
       "      <th>1</th>\n",
       "      <td>wiki-explanation-1</td>\n",
       "      <td>Repeated / Consistent Interaction Pattern</td>\n",
       "      <td></td>\n",
       "      <td>The explanation focuses on the source node rep...</td>\n",
       "      <td>1</td>\n",
       "    </tr>\n",
       "    <tr>\n",
       "      <th>2</th>\n",
       "      <td>wiki-explanation-2</td>\n",
       "      <td>Repeated / Consistent Interaction Pattern</td>\n",
       "      <td></td>\n",
       "      <td>The explanation notes that the source node has...</td>\n",
       "      <td>2</td>\n",
       "    </tr>\n",
       "    <tr>\n",
       "      <th>3</th>\n",
       "      <td>wiki-explanation-3</td>\n",
       "      <td>Repeated / Consistent Interaction Pattern</td>\n",
       "      <td></td>\n",
       "      <td>The explanation highlights repeated interactio...</td>\n",
       "      <td>3</td>\n",
       "    </tr>\n",
       "    <tr>\n",
       "      <th>4</th>\n",
       "      <td>wiki-explanation-4</td>\n",
       "      <td>Lack of Data or Default / Fallback Prediction</td>\n",
       "      <td></td>\n",
       "      <td>The explanation explicitly states the absence ...</td>\n",
       "      <td>4</td>\n",
       "    </tr>\n",
       "    <tr>\n",
       "      <th>...</th>\n",
       "      <td>...</td>\n",
       "      <td>...</td>\n",
       "      <td>...</td>\n",
       "      <td>...</td>\n",
       "      <td>...</td>\n",
       "    </tr>\n",
       "    <tr>\n",
       "      <th>4995</th>\n",
       "      <td>wiki-explanation-4995</td>\n",
       "      <td>Repeated / Consistent Interaction Pattern</td>\n",
       "      <td></td>\n",
       "      <td>The explanation highlights a repeated pattern ...</td>\n",
       "      <td>4995</td>\n",
       "    </tr>\n",
       "    <tr>\n",
       "      <th>4996</th>\n",
       "      <td>wiki-explanation-4996</td>\n",
       "      <td>Most Recent Interaction Heuristic</td>\n",
       "      <td></td>\n",
       "      <td>The explanation chooses the next destination b...</td>\n",
       "      <td>4996</td>\n",
       "    </tr>\n",
       "    <tr>\n",
       "      <th>4997</th>\n",
       "      <td>wiki-explanation-4997</td>\n",
       "      <td>Repeated / Consistent Interaction Pattern</td>\n",
       "      <td></td>\n",
       "      <td>The explanation identifies multiple repeated i...</td>\n",
       "      <td>4997</td>\n",
       "    </tr>\n",
       "    <tr>\n",
       "      <th>4998</th>\n",
       "      <td>wiki-explanation-4998</td>\n",
       "      <td>Most Recent Interaction Heuristic</td>\n",
       "      <td></td>\n",
       "      <td>The explanation bases the prediction on the de...</td>\n",
       "      <td>4998</td>\n",
       "    </tr>\n",
       "    <tr>\n",
       "      <th>4999</th>\n",
       "      <td>wiki-explanation-4999</td>\n",
       "      <td>Repeated / Consistent Interaction Pattern</td>\n",
       "      <td></td>\n",
       "      <td>The explanation emphasizes that the source nod...</td>\n",
       "      <td>4999</td>\n",
       "    </tr>\n",
       "  </tbody>\n",
       "</table>\n",
       "<p>5000 rows × 5 columns</p>\n",
       "</div>"
      ],
      "text/plain": [
       "                    task_id                                       category  \\\n",
       "0        wiki-explanation-0      Repeated / Consistent Interaction Pattern   \n",
       "1        wiki-explanation-1      Repeated / Consistent Interaction Pattern   \n",
       "2        wiki-explanation-2      Repeated / Consistent Interaction Pattern   \n",
       "3        wiki-explanation-3      Repeated / Consistent Interaction Pattern   \n",
       "4        wiki-explanation-4  Lack of Data or Default / Fallback Prediction   \n",
       "...                     ...                                            ...   \n",
       "4995  wiki-explanation-4995      Repeated / Consistent Interaction Pattern   \n",
       "4996  wiki-explanation-4996              Most Recent Interaction Heuristic   \n",
       "4997  wiki-explanation-4997      Repeated / Consistent Interaction Pattern   \n",
       "4998  wiki-explanation-4998              Most Recent Interaction Heuristic   \n",
       "4999  wiki-explanation-4999      Repeated / Consistent Interaction Pattern   \n",
       "\n",
       "     proposed_category                                      justification  \\\n",
       "0                       The explanation predicts the next destination ...   \n",
       "1                       The explanation focuses on the source node rep...   \n",
       "2                       The explanation notes that the source node has...   \n",
       "3                       The explanation highlights repeated interactio...   \n",
       "4                       The explanation explicitly states the absence ...   \n",
       "...                ...                                                ...   \n",
       "4995                    The explanation highlights a repeated pattern ...   \n",
       "4996                    The explanation chooses the next destination b...   \n",
       "4997                    The explanation identifies multiple repeated i...   \n",
       "4998                    The explanation bases the prediction on the de...   \n",
       "4999                    The explanation emphasizes that the source nod...   \n",
       "\n",
       "        id  \n",
       "0        0  \n",
       "1        1  \n",
       "2        2  \n",
       "3        3  \n",
       "4        4  \n",
       "...    ...  \n",
       "4995  4995  \n",
       "4996  4996  \n",
       "4997  4997  \n",
       "4998  4998  \n",
       "4999  4999  \n",
       "\n",
       "[5000 rows x 5 columns]"
      ]
     },
     "execution_count": 456,
     "metadata": {},
     "output_type": "execute_result"
    }
   ],
   "source": [
    "def get_id(task_id):\n",
    "    return int(task_id.split(\"-\")[2])\n",
    "result[\"id\"] = result[\"task_id\"].apply(get_id)\n",
    "result.sort_values(by=[\"id\"], inplace=True)\n",
    "result"
   ]
  },
  {
   "cell_type": "code",
   "execution_count": 457,
   "id": "fd31268b",
   "metadata": {},
   "outputs": [
    {
     "data": {
      "text/html": [
       "<div>\n",
       "<style scoped>\n",
       "    .dataframe tbody tr th:only-of-type {\n",
       "        vertical-align: middle;\n",
       "    }\n",
       "\n",
       "    .dataframe tbody tr th {\n",
       "        vertical-align: top;\n",
       "    }\n",
       "\n",
       "    .dataframe thead th {\n",
       "        text-align: right;\n",
       "    }\n",
       "</style>\n",
       "<table border=\"1\" class=\"dataframe\">\n",
       "  <thead>\n",
       "    <tr style=\"text-align: right;\">\n",
       "      <th></th>\n",
       "      <th>task_id</th>\n",
       "      <th>destination_node</th>\n",
       "      <th>score</th>\n",
       "      <th>explanation</th>\n",
       "      <th>id</th>\n",
       "    </tr>\n",
       "  </thead>\n",
       "  <tbody>\n",
       "    <tr>\n",
       "      <th>0</th>\n",
       "      <td>tgbl-wiki-0</td>\n",
       "      <td>8267</td>\n",
       "      <td>1.000000</td>\n",
       "      <td>Identify the past interactions of source node ...</td>\n",
       "      <td>0</td>\n",
       "    </tr>\n",
       "    <tr>\n",
       "      <th>1</th>\n",
       "      <td>tgbl-wiki-1</td>\n",
       "      <td>9180</td>\n",
       "      <td>0.001996</td>\n",
       "      <td>Review the past interactions of Source Node 73...</td>\n",
       "      <td>1</td>\n",
       "    </tr>\n",
       "    <tr>\n",
       "      <th>2</th>\n",
       "      <td>tgbl-wiki-2</td>\n",
       "      <td>9180</td>\n",
       "      <td>0.001996</td>\n",
       "      <td>The source node 7325 has past interactions onl...</td>\n",
       "      <td>2</td>\n",
       "    </tr>\n",
       "    <tr>\n",
       "      <th>3</th>\n",
       "      <td>tgbl-wiki-3</td>\n",
       "      <td>8988</td>\n",
       "      <td>1.000000</td>\n",
       "      <td>Looking at the temporal graph, we observe two ...</td>\n",
       "      <td>3</td>\n",
       "    </tr>\n",
       "    <tr>\n",
       "      <th>4</th>\n",
       "      <td>tgbl-wiki-4</td>\n",
       "      <td>-1</td>\n",
       "      <td>0.001998</td>\n",
       "      <td>Source Node 5622 is not present in the provide...</td>\n",
       "      <td>4</td>\n",
       "    </tr>\n",
       "    <tr>\n",
       "      <th>...</th>\n",
       "      <td>...</td>\n",
       "      <td>...</td>\n",
       "      <td>...</td>\n",
       "      <td>...</td>\n",
       "      <td>...</td>\n",
       "    </tr>\n",
       "    <tr>\n",
       "      <th>4995</th>\n",
       "      <td>tgbl-wiki-4995</td>\n",
       "      <td>9180</td>\n",
       "      <td>0.001996</td>\n",
       "      <td>The source node 3374 has two past interactions...</td>\n",
       "      <td>4995</td>\n",
       "    </tr>\n",
       "    <tr>\n",
       "      <th>4996</th>\n",
       "      <td>tgbl-wiki-4996</td>\n",
       "      <td>9210</td>\n",
       "      <td>1.000000</td>\n",
       "      <td>The past interactions provided for Source Node...</td>\n",
       "      <td>4996</td>\n",
       "    </tr>\n",
       "    <tr>\n",
       "      <th>4997</th>\n",
       "      <td>tgbl-wiki-4997</td>\n",
       "      <td>9146</td>\n",
       "      <td>1.000000</td>\n",
       "      <td>The given past interactions of Source Node 579...</td>\n",
       "      <td>4997</td>\n",
       "    </tr>\n",
       "    <tr>\n",
       "      <th>4998</th>\n",
       "      <td>tgbl-wiki-4998</td>\n",
       "      <td>9210</td>\n",
       "      <td>1.000000</td>\n",
       "      <td>Examining the given past interactions for Sour...</td>\n",
       "      <td>4998</td>\n",
       "    </tr>\n",
       "    <tr>\n",
       "      <th>4999</th>\n",
       "      <td>tgbl-wiki-4999</td>\n",
       "      <td>9180</td>\n",
       "      <td>0.001996</td>\n",
       "      <td>Analyze past interactions of Source Node 990. ...</td>\n",
       "      <td>4999</td>\n",
       "    </tr>\n",
       "  </tbody>\n",
       "</table>\n",
       "<p>5000 rows × 5 columns</p>\n",
       "</div>"
      ],
      "text/plain": [
       "             task_id  destination_node     score  \\\n",
       "0        tgbl-wiki-0              8267  1.000000   \n",
       "1        tgbl-wiki-1              9180  0.001996   \n",
       "2        tgbl-wiki-2              9180  0.001996   \n",
       "3        tgbl-wiki-3              8988  1.000000   \n",
       "4        tgbl-wiki-4                -1  0.001998   \n",
       "...              ...               ...       ...   \n",
       "4995  tgbl-wiki-4995              9180  0.001996   \n",
       "4996  tgbl-wiki-4996              9210  1.000000   \n",
       "4997  tgbl-wiki-4997              9146  1.000000   \n",
       "4998  tgbl-wiki-4998              9210  1.000000   \n",
       "4999  tgbl-wiki-4999              9180  0.001996   \n",
       "\n",
       "                                            explanation    id  \n",
       "0     Identify the past interactions of source node ...     0  \n",
       "1     Review the past interactions of Source Node 73...     1  \n",
       "2     The source node 7325 has past interactions onl...     2  \n",
       "3     Looking at the temporal graph, we observe two ...     3  \n",
       "4     Source Node 5622 is not present in the provide...     4  \n",
       "...                                                 ...   ...  \n",
       "4995  The source node 3374 has two past interactions...  4995  \n",
       "4996  The past interactions provided for Source Node...  4996  \n",
       "4997  The given past interactions of Source Node 579...  4997  \n",
       "4998  Examining the given past interactions for Sour...  4998  \n",
       "4999  Analyze past interactions of Source Node 990. ...  4999  \n",
       "\n",
       "[5000 rows x 5 columns]"
      ]
     },
     "execution_count": 457,
     "metadata": {},
     "output_type": "execute_result"
    }
   ],
   "source": [
    "prev_explanation_df = pd.read_csv(prev_file)\n",
    "prev_explanation_df[\"id\"] = prev_explanation_df[\"task_id\"].apply(get_id)\n",
    "prev_explanation_df.sort_values(by=[\"id\"], inplace=True)\n",
    "prev_explanation_df"
   ]
  },
  {
   "cell_type": "code",
   "execution_count": 458,
   "id": "a2c19268",
   "metadata": {},
   "outputs": [
    {
     "data": {
      "text/plain": [
       "(5000, 5000)"
      ]
     },
     "execution_count": 458,
     "metadata": {},
     "output_type": "execute_result"
    }
   ],
   "source": [
    "len(prev_explanation_df), len(result)"
   ]
  },
  {
   "cell_type": "code",
   "execution_count": 459,
   "id": "905f31bf",
   "metadata": {},
   "outputs": [],
   "source": [
    "explanation_score_df = pd.DataFrame(\n",
    "    {\n",
    "        \"score\": prev_explanation_df[\"score\"][:5000].reset_index(drop=True),\n",
    "        \"category\": result[\"category\"][:5000].reset_index(drop=True),\n",
    "    }\n",
    ")"
   ]
  },
  {
   "cell_type": "code",
   "execution_count": 460,
   "id": "9e8bafaf",
   "metadata": {},
   "outputs": [],
   "source": [
    "result = result[:5000].copy()\n",
    "result = result.reset_index(drop=True)\n",
    "result[\"explanation\"] = prev_explanation_df[\"explanation\"][:5000].reset_index(drop=True)"
   ]
  },
  {
   "cell_type": "code",
   "execution_count": 461,
   "id": "89ce7199",
   "metadata": {},
   "outputs": [],
   "source": [
    "# Define the desired order\n",
    "category_order = [\n",
    "    \"Most Recent Interaction Heuristic\",\n",
    "    \"Repeated / Consistent Interaction Pattern\",\n",
    "    \"Pattern Continuation or Extrapolation\",\n",
    "    \"Lack of Data or Default / Fallback Prediction\",\n",
    "    \"New Node or Unseen Interaction\",\n",
    "    \"Sequence or Alternation Logic\",\n",
    "    \"Most Frequent Past Destination\",\n",
    "    \"Ambiguous or Multiple Candidates\",\n",
    "    \"Default or Most Common Node\",\n",
    "    \"Others\"\n",
    "]\n",
    "\n",
    "category_name = [\n",
    "    \"Most Recent Interaction Heuristic\",\n",
    "    \"Repeated or Consistent Interaction Pattern\",\n",
    "    \"Pattern Continuation or Extrapolation\",\n",
    "    \"Lack of Data or Default or Fallback Prediction\",\n",
    "    \"New Node or Unseen Interaction\",\n",
    "    \"Sequence or Alternation Logic\",\n",
    "    \"Most Frequent Past Destination\",\n",
    "    \"Ambiguous or Multiple Candidates\",\n",
    "    \"Default or Most Common Node\",\n",
    "    \"Others\"\n",
    "]"
   ]
  },
  {
   "cell_type": "code",
   "execution_count": 462,
   "id": "ffaabfa9",
   "metadata": {},
   "outputs": [
    {
     "data": {
      "text/plain": [
       "category\n",
       "Most Recent Interaction Heuristic                 447\n",
       "Repeated / Consistent Interaction Pattern        3618\n",
       "Pattern Continuation or Extrapolation              50\n",
       "Lack of Data or Default / Fallback Prediction     569\n",
       "New Node or Unseen Interaction                     19\n",
       "Sequence or Alternation Logic                       2\n",
       "Most Frequent Past Destination                    253\n",
       "Ambiguous or Multiple Candidates                    6\n",
       "Default or Most Common Node                        23\n",
       "Others                                             13\n",
       "Name: count, dtype: int64"
      ]
     },
     "execution_count": 462,
     "metadata": {},
     "output_type": "execute_result"
    }
   ],
   "source": [
    "# Modify the value_counts() call to use this order\n",
    "ordered_counts = result['category'][:5000].value_counts()\n",
    "ordered_counts = ordered_counts.reindex(category_order).fillna(0)\n",
    "ordered_counts"
   ]
  },
  {
   "cell_type": "code",
   "execution_count": 463,
   "id": "afe9eb39",
   "metadata": {},
   "outputs": [],
   "source": [
    "ordered_counts.to_csv(f\"{result_folder}/category_counts.csv\", index=True)"
   ]
  },
  {
   "cell_type": "code",
   "execution_count": 464,
   "id": "8124f947",
   "metadata": {},
   "outputs": [
    {
     "name": "stdout",
     "output_type": "stream",
     "text": [
      "Most Recent Interaction Heuristic\n",
      "Repeated / Consistent Interaction Pattern\n",
      "Pattern Continuation or Extrapolation\n",
      "Lack of Data or Default / Fallback Prediction\n",
      "New Node or Unseen Interaction\n",
      "Sequence or Alternation Logic\n",
      "Most Frequent Past Destination\n",
      "Ambiguous or Multiple Candidates\n",
      "Default or Most Common Node\n",
      "Others\n"
     ]
    }
   ],
   "source": [
    "for name, category in zip(category_name, category_order):\n",
    "    print(f\"{category}\")\n",
    "    temp_df = result[result['category'] == category]\n",
    "\n",
    "    sample_count = min(5, len(temp_df))\n",
    "    temp_df.sample(sample_count).to_csv(f\"{result_folder}/{name}.csv\", index=False)"
   ]
  },
  {
   "cell_type": "code",
   "execution_count": 465,
   "id": "916e4c15",
   "metadata": {},
   "outputs": [
    {
     "data": {
      "text/plain": [
       "category\n",
       "Most Recent Interaction Heuristic                0.718683\n",
       "Repeated / Consistent Interaction Pattern        0.248325\n",
       "Pattern Continuation or Extrapolation            0.301397\n",
       "Lack of Data or Default / Fallback Prediction    0.017783\n",
       "New Node or Unseen Interaction                   0.001996\n",
       "Sequence or Alternation Logic                    0.001996\n",
       "Most Frequent Past Destination                   0.814600\n",
       "Ambiguous or Multiple Candidates                 0.500998\n",
       "Default or Most Common Node                      0.001996\n",
       "Others                                           0.001996\n",
       "Name: score, dtype: float64"
      ]
     },
     "execution_count": 465,
     "metadata": {},
     "output_type": "execute_result"
    }
   ],
   "source": [
    "mean_scores = explanation_score_df.groupby(\"category\")[\"score\"].mean()\n",
    "mean_scores = mean_scores.reindex(category_order)\n",
    "mean_scores"
   ]
  },
  {
   "cell_type": "code",
   "execution_count": 466,
   "id": "60086384",
   "metadata": {},
   "outputs": [],
   "source": [
    "mean_scores.to_csv(f\"{result_folder}/category_mean_scores.csv\", index=True)"
   ]
  }
 ],
 "metadata": {
  "kernelspec": {
   "display_name": "base",
   "language": "python",
   "name": "python3"
  },
  "language_info": {
   "codemirror_mode": {
    "name": "ipython",
    "version": 3
   },
   "file_extension": ".py",
   "mimetype": "text/x-python",
   "name": "python",
   "nbconvert_exporter": "python",
   "pygments_lexer": "ipython3",
   "version": "3.10.9"
  }
 },
 "nbformat": 4,
 "nbformat_minor": 5
}
